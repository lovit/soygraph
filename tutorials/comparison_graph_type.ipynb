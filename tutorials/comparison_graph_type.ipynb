{
 "cells": [
  {
   "cell_type": "code",
   "execution_count": 1,
   "metadata": {
    "collapsed": true
   },
   "outputs": [],
   "source": [
    "import sys\n",
    "sys.path.append('../')\n",
    "from soygraph.utils import bow_to_graph\n",
    "from soygraph.utils import matrix_to_dict\n",
    "\n",
    "import pickle\n",
    "\n",
    "with open('../tmp/params_keywords', 'rb') as f:\n",
    "    params = pickle.load(f)\n",
    "    x = params['x'].tocsr()"
   ]
  },
  {
   "cell_type": "markdown",
   "metadata": {},
   "source": [
    "x is doc - term frequency matrix (Bag of words model). It contains 300,91 docs with 9,774 terms"
   ]
  },
  {
   "cell_type": "code",
   "execution_count": 2,
   "metadata": {},
   "outputs": [
    {
     "data": {
      "text/plain": [
       "(30091, 9774)"
      ]
     },
     "execution_count": 2,
     "metadata": {},
     "output_type": "execute_result"
    }
   ],
   "source": [
    "x.shape"
   ]
  },
  {
   "cell_type": "markdown",
   "metadata": {},
   "source": [
    "bow_to_graph() transforms doc-term matrix to graph form. All docs and terms are nodes. Therefore, the number of row of the transformed matrix is (X.shape[0] + X.shape[1])"
   ]
  },
  {
   "cell_type": "code",
   "execution_count": 3,
   "metadata": {},
   "outputs": [
    {
     "data": {
      "text/plain": [
       "(39865, 39865)"
      ]
     },
     "execution_count": 3,
     "metadata": {},
     "output_type": "execute_result"
    }
   ],
   "source": [
    "x_ = bow_to_graph(x)\n",
    "x_.shape"
   ]
  },
  {
   "cell_type": "code",
   "execution_count": 4,
   "metadata": {},
   "outputs": [],
   "source": [
    "from soygraph import DictGraph\n",
    "from soygraph import MatrixGraph\n",
    "\n",
    "g_matx = MatrixGraph(x_)\n",
    "g_dict = DictGraph(matrix_to_dict(x_))"
   ]
  },
  {
   "cell_type": "markdown",
   "metadata": {},
   "source": [
    "Graph.shape() return (V, E)"
   ]
  },
  {
   "cell_type": "code",
   "execution_count": 6,
   "metadata": {},
   "outputs": [
    {
     "name": "stdout",
     "output_type": "stream",
     "text": [
      "MatrixGraph shape = (39865, 3868222)\n",
      "DictGraph shape = (39865, 3868222)\n"
     ]
    }
   ],
   "source": [
    "print('MatrixGraph shape = {}'.format(g_matx.shape()))\n",
    "print('DictGraph shape = {}'.format(g_dict.shape()))"
   ]
  },
  {
   "cell_type": "markdown",
   "metadata": {},
   "source": [
    "Comparison time of getting inbounds.\n",
    "\n",
    "MatrixGraph is slower than DictGraph because MatrixGraph acts based on array."
   ]
  },
  {
   "cell_type": "code",
   "execution_count": 8,
   "metadata": {},
   "outputs": [
    {
     "name": "stdout",
     "output_type": "stream",
     "text": [
      "MatrixGraph iteration time = 1.61 sec\n",
      "  DictGraph iteration time = 0.07 sec\n"
     ]
    }
   ],
   "source": [
    "import time\n",
    "\n",
    "def time_check(graph):\n",
    "    V = graph.shape()[0]\n",
    "    t = time.time()\n",
    "    num_inbs = 0\n",
    "    for node in range(V):\n",
    "        inbs = graph.inbounds(node)\n",
    "        num_inbs += len(inbs)\n",
    "        continue\n",
    "    t = time.time() - t\n",
    "    return t\n",
    "\n",
    "print('MatrixGraph iteration time = %.2f sec' % time_check(g_matx))\n",
    "print('  DictGraph iteration time = %.2f sec' % time_check(g_dict))"
   ]
  }
 ],
 "metadata": {
  "kernelspec": {
   "display_name": "Python 3",
   "language": "python",
   "name": "python3"
  },
  "language_info": {
   "codemirror_mode": {
    "name": "ipython",
    "version": 3
   },
   "file_extension": ".py",
   "mimetype": "text/x-python",
   "name": "python",
   "nbconvert_exporter": "python",
   "pygments_lexer": "ipython3",
   "version": "3.6.1"
  }
 },
 "nbformat": 4,
 "nbformat_minor": 2
}
